{
 "cells": [
  {
   "cell_type": "markdown",
   "metadata": {},
   "source": [
    "# Uncertainty quantification of H2G-Net\n",
    "\n",
    "In this tutorial, we will demonstrate how to perform uncertainty quantification of our pretrained H2G-Net model.\n",
    "\n",
    "For now, we only care about the final refinement network and we will use a Monte Carlo dropout approach."
   ]
  },
  {
   "cell_type": "code",
   "execution_count": null,
   "metadata": {},
   "outputs": [],
   "source": [
    "!pip install --trusted-host pypi.python.org pytest-xdist\n",
    "!pip install --trusted-host pypi.python.org --upgrade pip"
   ]
  },
  {
   "cell_type": "code",
   "execution_count": null,
   "metadata": {},
   "outputs": [],
   "source": [
    "!python -V"
   ]
  },
  {
   "cell_type": "code",
   "execution_count": null,
   "metadata": {},
   "outputs": [],
   "source": [
    "!pip install -q numpy==1.23.3 matplotlib tensorflow==1.13.1"
   ]
  },
  {
   "cell_type": "code",
   "execution_count": null,
   "metadata": {},
   "outputs": [],
   "source": [
    "!wget https://github.com/AICAN-Research/H2G-Net/releases/download/pretrained-models/patchwise_mobilenet_network_breast_cancer.onnx"
   ]
  },
  {
   "cell_type": "code",
   "execution_count": null,
   "metadata": {},
   "outputs": [],
   "source": [
    "!wget https://github.com/AICAN-Research/H2G-Net/releases/download/pretrained-models/refinement_network_breast_cancer.h5"
   ]
  },
  {
   "cell_type": "code",
   "execution_count": null,
   "metadata": {},
   "outputs": [],
   "source": [
    "import fast\n",
    "\n",
    "# download model\n",
    "fast.DataHub().download('breast-tumour-segmentation-model')"
   ]
  },
  {
   "cell_type": "code",
   "execution_count": null,
   "metadata": {},
   "outputs": [],
   "source": [
    "import fast\n",
    "import os\n",
    "import numpy as np\n",
    "\n",
    "# use pyFAST to generate the heatmap\n",
    "wsi_path = \"/Users/andreped/Downloads/breast_wsis/\"\n",
    "paths = os.listdir(wsi_path)\n",
    "\n",
    "paths = [paths[1]]\n",
    "\n",
    "for curr in paths:\n",
    "    path = os.path.join(wsi_path, curr)\n",
    "    print(path)\n",
    "\n",
    "    reader = fast.WholeSlideImageImporter.create(filename=path)\n",
    "    tissue = fast.TissueSegmentation.create().connect(reader)\n",
    "    patch = fast.PatchGenerator.create(width=256, height=256, level=2)\\\n",
    "        .connect(0, reader)\\\n",
    "        .connect(1, tissue)\n",
    "    network = fast.NeuralNetwork.create(modelFilename=\"./patchwise_mobilenet_network_breast_cancer.onnx\", scaleFactor=0.003921568627451)\\\n",
    "        .connect(patch)\n",
    "    stitcher = fast.PatchStitcher.create().connect(network)\n",
    "    finish = fast.RunUntilFinished.create().connect(stitcher)\n",
    "\n",
    "    finish.run()\n",
    "\n",
    "    heatmap = np.asarray(finish.getOutputData())\n",
    "\n",
    "    print(heatmap.shape)\n",
    "\n",
    "    break\n",
    "\n"
   ]
  },
  {
   "cell_type": "code",
   "execution_count": 5,
   "metadata": {},
   "outputs": [
    {
     "name": "stdout",
     "output_type": "stream",
     "text": [
      "WARNING:tensorflow:From c:\\Users\\andrp\\workspace\\H2G-Net\\venv\\lib\\site-packages\\tensorflow\\python\\ops\\resource_variable_ops.py:435: colocate_with (from tensorflow.python.framework.ops) is deprecated and will be removed in a future version.\n",
      "Instructions for updating:\n",
      "Colocations handled automatically by placer.\n",
      "WARNING:tensorflow:From c:\\Users\\andrp\\workspace\\H2G-Net\\venv\\lib\\site-packages\\tensorflow\\python\\keras\\layers\\core.py:143: calling dropout (from tensorflow.python.ops.nn_ops) with keep_prob is deprecated and will be removed in a future version.\n",
      "Instructions for updating:\n",
      "Please use `rate` instead of `keep_prob`. Rate should be set to `rate = 1 - keep_prob`.\n"
     ]
    }
   ],
   "source": [
    "from tensorflow.python.keras.models import load_model\n",
    "\n",
    "model = load_model(\"refinement_network_breast_cancer.h5\", compile=False)"
   ]
  },
  {
   "cell_type": "code",
   "execution_count": 1,
   "metadata": {},
   "outputs": [],
   "source": [
    "import h5py\n",
    "import numpy as np\n",
    "\n",
    "with h5py.File(\"temporary-image-file-2.h5\", \"r\") as f:\n",
    "    thumbnail = np.asarray(f[\"thumbnail\"])\n",
    "    image = np.asarray(f[\"image\"])\n",
    "    heatmap = np.asarray(f[\"heatmap\"])"
   ]
  },
  {
   "cell_type": "code",
   "execution_count": 2,
   "metadata": {},
   "outputs": [
    {
     "name": "stdout",
     "output_type": "stream",
     "text": [
      "(2908, 1608, 3)\n",
      "(1, 1024, 1024, 3)\n",
      "(1, 1024, 1024, 1)\n"
     ]
    }
   ],
   "source": [
    "print(thumbnail.shape)\n",
    "print(image.shape)\n",
    "print(heatmap.shape)"
   ]
  },
  {
   "cell_type": "code",
   "execution_count": null,
   "metadata": {},
   "outputs": [
    {
     "ename": "TypeError",
     "evalue": "Required argument 'dsize' (pos 2) not found",
     "output_type": "error",
     "traceback": [
      "\u001b[1;31m---------------------------------------------------------------------------\u001b[0m",
      "\u001b[1;31mTypeError\u001b[0m                                 Traceback (most recent call last)",
      "\u001b[1;32m<ipython-input-6-042f066d4ed0>\u001b[0m in \u001b[0;36m<module>\u001b[1;34m\u001b[0m\n\u001b[0;32m     28\u001b[0m \u001b[0mstd_out\u001b[0m \u001b[1;33m=\u001b[0m \u001b[0mnp\u001b[0m\u001b[1;33m.\u001b[0m\u001b[0msqrt\u001b[0m\u001b[1;33m(\u001b[0m\u001b[0mnp\u001b[0m\u001b[1;33m.\u001b[0m\u001b[0mabs\u001b[0m\u001b[1;33m(\u001b[0m\u001b[0mstd_out\u001b[0m \u001b[1;33m-\u001b[0m \u001b[0mavg_out\u001b[0m \u001b[1;33m**\u001b[0m \u001b[1;36m2\u001b[0m\u001b[1;33m)\u001b[0m\u001b[1;33m)\u001b[0m\u001b[1;33m\u001b[0m\u001b[1;33m\u001b[0m\u001b[0m\n\u001b[0;32m     29\u001b[0m \u001b[1;33m\u001b[0m\u001b[0m\n\u001b[1;32m---> 30\u001b[1;33m \u001b[0mthumbnail\u001b[0m \u001b[1;33m=\u001b[0m \u001b[0mcv2\u001b[0m\u001b[1;33m.\u001b[0m\u001b[0mresize\u001b[0m\u001b[1;33m(\u001b[0m\u001b[0mthumbnail\u001b[0m\u001b[1;33m,\u001b[0m \u001b[0mfx\u001b[0m\u001b[1;33m=\u001b[0m\u001b[1;36m0.5\u001b[0m\u001b[1;33m,\u001b[0m \u001b[0mfy\u001b[0m\u001b[1;33m=\u001b[0m\u001b[1;36m0.5\u001b[0m\u001b[1;33m)\u001b[0m\u001b[1;33m\u001b[0m\u001b[1;33m\u001b[0m\u001b[0m\n\u001b[0m\u001b[0;32m     31\u001b[0m \u001b[1;33m\u001b[0m\u001b[0m\n\u001b[0;32m     32\u001b[0m \u001b[1;31m#image = image.squeeze(axis=0)\u001b[0m\u001b[1;33m\u001b[0m\u001b[1;33m\u001b[0m\u001b[1;33m\u001b[0m\u001b[0m\n",
      "\u001b[1;31mTypeError\u001b[0m: Required argument 'dsize' (pos 2) not found"
     ]
    }
   ],
   "source": [
    "import matplotlib.pyplot as plt\n",
    "import tensorflow as tf\n",
    "import tensorflow.keras.backend as K\n",
    "import cv2\n",
    "\n",
    "\n",
    "def predict_with_dropout(model, x):\n",
    "    func = K.function([model.input, K.learning_phase()], [model.output])\n",
    "    return np.array(func([x, 1])[0])\n",
    "\n",
    "\n",
    "sess = tf.Session()\n",
    "\n",
    "nb_mc_runs = 10\n",
    "avg_out = np.zeros_like(heatmap[..., 0])\n",
    "std_out = np.zeros_like(heatmap[..., 0])\n",
    "for i in range(nb_mc_runs):\n",
    "    input_ = np.concatenate([image, heatmap], axis=-1)\n",
    "    input_ = tf.convert_to_tensor(input_)\n",
    "\n",
    "    output_tensor = predict_with_dropout(model, [image, heatmap])\n",
    "\n",
    "    pred = output_tensor[..., 1]\n",
    "\n",
    "    avg_out += pred / nb_mc_runs\n",
    "    std_out += (pred ** 2) / nb_mc_runs\n",
    "\n",
    "std_out = np.sqrt(np.abs(std_out - avg_out ** 2))"
   ]
  },
  {
   "cell_type": "code",
   "execution_count": null,
   "metadata": {},
   "outputs": [
    {
     "ename": "TypeError",
     "evalue": "Required argument 'dsize' (pos 2) not found",
     "output_type": "error",
     "traceback": [
      "\u001b[1;31m---------------------------------------------------------------------------\u001b[0m",
      "\u001b[1;31mTypeError\u001b[0m                                 Traceback (most recent call last)",
      "\u001b[1;32m<ipython-input-7-a8b9276b83bc>\u001b[0m in \u001b[0;36m<module>\u001b[1;34m\u001b[0m\n\u001b[1;32m----> 1\u001b[1;33m \u001b[0mthumbnail\u001b[0m \u001b[1;33m=\u001b[0m \u001b[0mcv2\u001b[0m\u001b[1;33m.\u001b[0m\u001b[0mresize\u001b[0m\u001b[1;33m(\u001b[0m\u001b[0mthumbnail\u001b[0m\u001b[1;33m,\u001b[0m \u001b[0mfx\u001b[0m\u001b[1;33m=\u001b[0m\u001b[1;36m0.5\u001b[0m\u001b[1;33m,\u001b[0m \u001b[0mfy\u001b[0m\u001b[1;33m=\u001b[0m\u001b[1;36m0.5\u001b[0m\u001b[1;33m)\u001b[0m\u001b[1;33m\u001b[0m\u001b[1;33m\u001b[0m\u001b[0m\n\u001b[0m\u001b[0;32m      2\u001b[0m \u001b[1;33m\u001b[0m\u001b[0m\n\u001b[0;32m      3\u001b[0m \u001b[1;31m#image = image.squeeze(axis=0)\u001b[0m\u001b[1;33m\u001b[0m\u001b[1;33m\u001b[0m\u001b[1;33m\u001b[0m\u001b[0m\n\u001b[0;32m      4\u001b[0m \u001b[1;31m#image = cv2.resize(image, thumbnail.shape[:2][::-1])\u001b[0m\u001b[1;33m\u001b[0m\u001b[1;33m\u001b[0m\u001b[1;33m\u001b[0m\u001b[0m\n\u001b[0;32m      5\u001b[0m \u001b[0mheatmap\u001b[0m \u001b[1;33m=\u001b[0m \u001b[0mcv2\u001b[0m\u001b[1;33m.\u001b[0m\u001b[0mresize\u001b[0m\u001b[1;33m(\u001b[0m\u001b[0mheatmap\u001b[0m\u001b[1;33m,\u001b[0m \u001b[0mthumbnail\u001b[0m\u001b[1;33m.\u001b[0m\u001b[0mshape\u001b[0m\u001b[1;33m[\u001b[0m\u001b[1;33m:\u001b[0m\u001b[1;36m2\u001b[0m\u001b[1;33m]\u001b[0m\u001b[1;33m[\u001b[0m\u001b[1;33m:\u001b[0m\u001b[1;33m:\u001b[0m\u001b[1;33m-\u001b[0m\u001b[1;36m1\u001b[0m\u001b[1;33m]\u001b[0m\u001b[1;33m)\u001b[0m\u001b[1;33m\u001b[0m\u001b[1;33m\u001b[0m\u001b[0m\n",
      "\u001b[1;31mTypeError\u001b[0m: Required argument 'dsize' (pos 2) not found"
     ]
    }
   ],
   "source": [
    "\n",
    "thumbnail = cv2.resize(thumbnail, (0, 0), fx=0.5, fy=0.5)\n",
    "\n",
    "#image = image.squeeze(axis=0)\n",
    "#image = cv2.resize(image, thumbnail.shape[:2][::-1])\n",
    "heatmap = cv2.resize(heatmap, thumbnail.shape[:2][::-1])\n",
    "pred = cv2.resize(pred, thumbnail.shape[:2][::-1])\n",
    "std_out = cv2.resize(std_out, thumbnail.shape[:2][::-1])\n",
    "\n",
    "\n",
    "fig, ax = plt.subplots(1, 4, figsize=(20, 5))\n",
    "ax[0].imshow(thumbnail.squeeze(axis=0))\n",
    "ax[1].imshow(heatmap.squeeze(axis=0), cmap=\"gray\", vmin=0, vmax=1)\n",
    "ax[2].imshow(pred.squeeze(axis=0), cmap=\"gray\", vmin=0, vmax=1)\n",
    "#ax[3].imshow(avg_out.squeeze(axis=0), cmap=\"gray\", vmin=0, vmax=1)\n",
    "ax[3].imshow(std_out.squeeze(axis=0), cmap=\"gray\", vmin=0)\n",
    "\n",
    "names = [\"WSI\", \"Patch-wise\", \"H2G-Net\", \"Uncertainty\"]\n",
    "\n",
    "for i, name in enumerate(names):\n",
    "    ax[i].set_title(name)\n",
    "    ax[i].axis(\"off\")\n",
    "#ax[4].imshow(std_out.squeeze(axis=0), cmap=\"gray\", vmin=0)\n",
    "\n",
    "plt.show()\n"
   ]
  },
  {
   "cell_type": "code",
   "execution_count": null,
   "metadata": {},
   "outputs": [],
   "source": []
  }
 ],
 "metadata": {
  "kernelspec": {
   "display_name": "venv",
   "language": "python",
   "name": "python3"
  },
  "language_info": {
   "codemirror_mode": {
    "name": "ipython",
    "version": 3
   },
   "file_extension": ".py",
   "mimetype": "text/x-python",
   "name": "python",
   "nbconvert_exporter": "python",
   "pygments_lexer": "ipython3",
   "version": "3.6.8"
  }
 },
 "nbformat": 4,
 "nbformat_minor": 2
}
